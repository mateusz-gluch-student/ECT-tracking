{
 "cells": [
  {
   "cell_type": "markdown",
   "metadata": {},
   "source": [
    "### Loss functions"
   ]
  },
  {
   "cell_type": "code",
   "execution_count": 1,
   "metadata": {},
   "outputs": [],
   "source": [
    "import numpy as np  \n",
    "from matplotlib import pyplot as plt\n",
    "from icecream import ic\n",
    "from ect.helpers import sine_multimodal, Mode\n",
    "\n",
    "import cv2"
   ]
  },
  {
   "cell_type": "code",
   "execution_count": 6,
   "metadata": {},
   "outputs": [],
   "source": [
    "\n",
    "# def rms(img: np.ndarray) -> float:\n",
    "#     sum_sq: np.ndarray = (img*img)\n",
    "#     s: float = sum_sq.sum().sum()\n",
    "#     return s\n",
    "\n",
    "def snr(img: np.ndarray, template: np.ndarray) -> float:\n",
    "    inorm = cv2.normalize(img, None, 1, 0, cv2.NORM_L2)\n",
    "    tnorm = cv2.normalize(template, None, 1, 0, cv2.NORM_L2)\n",
    "    rms = np.square(inorm-tnorm).sum().sum()\n",
    "    return 10*np.log10(rms+1e-12)"
   ]
  },
  {
   "cell_type": "markdown",
   "metadata": {},
   "source": []
  },
  {
   "cell_type": "code",
   "execution_count": 7,
   "metadata": {},
   "outputs": [
    {
     "data": {
      "text/plain": [
       "<matplotlib.image.AxesImage at 0x751fad96f6e0>"
      ]
     },
     "execution_count": 7,
     "metadata": {},
     "output_type": "execute_result"
    },
    {
     "data": {
      "image/png": "[encoded data removed]",
      "text/plain": [
       "<Figure size 640x480 with 1 Axes>"
      ]
     },
     "metadata": {},
     "output_type": "display_data"
    }
   ],
   "source": [
    "template = sine_multimodal((500, 500), \n",
    "    modes=[Mode(100/x, 0, 1/x) for x in range(1, 200, 2)])\n",
    "\n",
    "plt.imshow(template)"
   ]
  },
  {
   "cell_type": "code",
   "execution_count": 8,
   "metadata": {},
   "outputs": [
    {
     "data": {
      "text/plain": [
       "<matplotlib.image.AxesImage at 0x751fad974860>"
      ]
     },
     "execution_count": 8,
     "metadata": {},
     "output_type": "execute_result"
    },
    {
     "data": {
      "image/png": "[encoded data removed]",
      "text/plain": [
       "<Figure size 640x480 with 1 Axes>"
      ]
     },
     "metadata": {},
     "output_type": "display_data"
    }
   ],
   "source": [
    "image = sine_multimodal((500, 500), \n",
    "    modes=[Mode(100/x, 0, 1/x) for x in range(1, 30, 2)])\n",
    "\n",
    "plt.imshow(image)"
   ]
  },
  {
   "cell_type": "code",
   "execution_count": 9,
   "metadata": {},
   "outputs": [
    {
     "name": "stderr",
     "output_type": "stream",
     "text": [
      "ic| mode: Mode(T=100.000, angle=0.000, A=1.000)\n",
      "    loss: -10.114891992141734\n",
      "ic| mode: Mode(T=33.333, angle=0.000, A=0.333)\n",
      "    loss: -13.360160038220776\n",
      "ic| mode: Mode(T=20.000, angle=0.000, A=0.200)\n",
      "    loss: -15.297928472110145\n",
      "ic| mode: Mode(T=14.286, angle=0.000, A=0.143)\n",
      "    loss: -16.678456103699933\n",
      "ic| mode: Mode(T=11.111, angle=0.000, A=0.111)\n",
      "    loss: -17.70833076443542\n",
      "ic| mode: Mode(T=9.091, angle=0.000, A=0.091)\n",
      "    loss: -18.578912986887943\n",
      "ic| mode: Mode(T=7.692, angle=0.000, A=0.077)\n",
      "    loss: -19.544010340909605\n",
      "ic| mode: Mode(T=6.667, angle=0.000, A=0.067)\n",
      "    loss: -19.82268293554515\n",
      "ic| mode: Mode(T=5.882, angle=0.000, A=0.059)\n",
      "    loss: -20.41721177556368\n",
      "ic| mode: Mode(T=5.263, angle=0.000, A=0.053)\n",
      "    loss: -21.789467692381987\n",
      "ic| mode: Mode(T=4.762, angle=0.000, A=0.048)\n",
      "    loss: -21.46648296450795\n",
      "ic| mode: Mode(T=4.348, angle=0.000, A=0.043)\n",
      "    loss: -21.213533133918197\n",
      "ic| mode: Mode(T=4.000, angle=0.000, A=0.040)\n",
      "    loss: -21.405213289565893\n",
      "ic| mode: Mode(T=3.704, angle=0.000, A=0.037)\n",
      "    loss: -22.03418981741088\n",
      "ic| mode: Mode(T=3.448, angle=0.000, A=0.034)\n",
      "    loss: -23.12367576749443\n",
      "ic| mode: Mode(T=3.226, angle=0.000, A=0.032)\n",
      "    loss: -24.728729808112032\n",
      "ic| mode: Mode(T=3.030, angle=0.000, A=0.030)\n",
      "    loss: -26.898279890827936\n",
      "ic| mode: Mode(T=2.857, angle=0.000, A=0.029)\n",
      "    loss: -26.656328815850955\n",
      "ic| mode: Mode(T=2.703, angle=0.000, A=0.027)\n",
      "    loss: -25.03525302262778\n",
      "ic| mode: Mode(T=2.564, angle=0.000, A=0.026)\n",
      "    loss: -23.829028295807902\n",
      "ic| mode: Mode(T=2.439, angle=0.000, A=0.024)\n",
      "    loss: -22.946334807286473\n",
      "ic| mode: Mode(T=2.326, angle=0.000, A=0.023)\n",
      "    loss: -22.312757578133432\n",
      "ic| mode: Mode(T=2.222, angle=0.000, A=0.022)\n",
      "    loss: -21.875886851652982\n",
      "ic| mode: Mode(T=2.128, angle=0.000, A=0.021)\n",
      "    loss: -21.599253115733312\n",
      "ic| mode: Mode(T=2.041, angle=0.000, A=0.020)\n",
      "    loss: -21.456926377136543\n",
      "ic| mode: Mode(T=1.961, angle=0.000, A=0.020)\n",
      "    loss: -21.596928568738598\n",
      "ic| mode: Mode(T=1.887, angle=0.000, A=0.019)\n",
      "    loss: -21.851769526094106\n",
      "ic| mode: Mode(T=1.818, angle=0.000, A=0.018)\n",
      "    loss: -22.22411256565912\n",
      "ic| mode: Mode(T=1.754, angle=0.000, A=0.018), loss: -22.7199137740916\n",
      "ic| mode: Mode(T=1.695, angle=0.000, A=0.017)\n",
      "    loss: -23.349039820549002\n",
      "ic| mode: Mode(T=1.639, angle=0.000, A=0.016)\n",
      "    loss: -24.126194643054323\n",
      "ic| mode: Mode(T=1.587, angle=0.000, A=0.016)\n",
      "    loss: -25.072295792443292\n",
      "ic| mode: Mode(T=1.538, angle=0.000, A=0.015)\n",
      "    loss: -26.216371326600687\n",
      "ic| mode: Mode(T=1.493, angle=0.000, A=0.015)\n",
      "    loss: -27.597596937114382\n",
      "ic| mode: Mode(T=1.449, angle=0.000, A=0.014)\n",
      "    loss: -29.264868603421988\n",
      "ic| mode: Mode(T=1.408, angle=0.000, A=0.014)\n",
      "    loss: -30.005449167318332\n",
      "ic| mode: Mode(T=1.370, angle=0.000, A=0.014)\n",
      "    loss: -29.716508604624373\n",
      "ic| mode: Mode(T=1.333, angle=0.000, A=0.013)\n",
      "    loss: -29.85009077923341\n",
      "ic| mode: Mode(T=1.299, angle=0.000, A=0.013)\n",
      "    loss: -30.435658456897862\n",
      "ic| mode: Mode(T=1.266, angle=0.000, A=0.013)\n",
      "    loss: -31.52428115750439\n",
      "ic| mode: Mode(T=1.235, angle=0.000, A=0.012)\n",
      "    loss: -33.20248338391956\n",
      "ic| mode: Mode(T=1.205, angle=0.000, A=0.012)\n",
      "    loss: -33.837894604767015\n",
      "ic| mode: Mode(T=1.176, angle=0.000, A=0.012)\n",
      "    loss: -34.77046367281353\n",
      "ic| mode: Mode(T=1.149, angle=0.000, A=0.011)\n",
      "    loss: -36.15509595357303\n",
      "ic| mode: Mode(T=1.124, angle=0.000, A=0.011)\n",
      "    loss: -37.34305768405318\n",
      "ic| mode: Mode(T=1.099, angle=0.000, A=0.011)\n",
      "    loss: -38.44692904646286\n",
      "ic| mode: Mode(T=1.075, angle=0.000, A=0.011)\n",
      "    loss: -39.338091275986145\n",
      "ic| mode: Mode(T=1.053, angle=0.000, A=0.011)\n",
      "    loss: -39.924585374095955\n",
      "ic| mode: Mode(T=1.031, angle=0.000, A=0.010)\n",
      "    loss: -39.961513282636844\n",
      "ic| mode: Mode(T=1.010, angle=0.000, A=0.010)\n",
      "    loss: -42.797831041542686\n",
      "ic| mode: Mode(T=0.990, angle=0.000, A=0.010)\n",
      "    loss: -40.012144591458316\n",
      "ic| mode: Mode(T=0.971, angle=0.000, A=0.010)\n",
      "    loss: -40.132067258897834\n",
      "ic| mode: Mode(T=0.952, angle=0.000, A=0.010), loss: -39.8491412374608\n",
      "ic| mode: Mode(T=0.935, angle=0.000, A=0.009)\n",
      "    loss: -39.33494882615626\n",
      "ic| mode: Mode(T=0.917, angle=0.000, A=0.009)\n",
      "    loss: -38.81852966531272\n",
      "ic| mode: Mode(T=0.901, angle=0.000, A=0.009)\n",
      "    loss: -37.979688607289866\n",
      "ic| mode: Mode(T=0.885, angle=0.000, A=0.009)\n",
      "    loss: -37.344990947803176\n",
      "ic| mode: Mode(T=0.870, angle=0.000, A=0.009)\n",
      "    loss: -36.56240002107116\n",
      "ic| mode: Mode(T=0.855, angle=0.000, A=0.009)\n",
      "    loss: -36.69085838786933\n",
      "ic| mode: Mode(T=0.840, angle=0.000, A=0.008)\n",
      "    loss: -35.72597373642444\n",
      "ic| mode: Mode(T=0.826, angle=0.000, A=0.008)\n",
      "    loss: -34.66765560001635\n",
      "ic| mode: Mode(T=0.813, angle=0.000, A=0.008)\n",
      "    loss: -34.136630302967234\n",
      "ic| mode: Mode(T=0.800, angle=0.000, A=0.008)\n",
      "    loss: -34.07084850397878\n",
      "ic| mode: Mode(T=0.787, angle=0.000, A=0.008)\n",
      "    loss: -34.42619197944458\n",
      "ic| mode: Mode(T=0.775, angle=0.000, A=0.008)\n",
      "    loss: -35.15388849042874\n",
      "ic| mode: Mode(T=0.763, angle=0.000, A=0.008)\n",
      "    loss: -36.14201948226174\n",
      "ic| mode: Mode(T=0.752, angle=0.000, A=0.008)\n",
      "    loss: -34.910910697793135\n",
      "ic| mode: Mode(T=0.741, angle=0.000, A=0.007)\n",
      "    loss: -33.56350145904708\n",
      "ic| mode: Mode(T=0.730, angle=0.000, A=0.007)\n",
      "    loss: -32.45896523894511\n",
      "ic| mode: Mode(T=0.719, angle=0.000, A=0.007)\n",
      "    loss: -31.576129485076706\n",
      "ic| mode: Mode(T=0.709, angle=0.000, A=0.007)\n",
      "    loss: -30.88611776213908\n",
      "ic| mode: Mode(T=0.699, angle=0.000, A=0.007)\n",
      "    loss: -30.36350249669434\n",
      "ic| mode: Mode(T=0.690, angle=0.000, A=0.007)\n",
      "    loss: -29.98808733476878\n",
      "ic| mode: Mode(T=0.680, angle=0.000, A=0.007)\n",
      "    loss: -29.744328397660937\n",
      "ic| mode: Mode(T=0.671, angle=0.000, A=0.007)\n",
      "    loss: -29.620302139955612\n",
      "ic| mode: Mode(T=0.662, angle=0.000, A=0.007)\n",
      "    loss: -29.74358596204018\n",
      "ic| mode: Mode(T=0.654, angle=0.000, A=0.007)\n",
      "    loss: -29.98046845644773\n",
      "ic| mode: Mode(T=0.645, angle=0.000, A=0.006)\n",
      "    loss: -30.335935390070446\n",
      "ic| mode: Mode(T=0.637, angle=0.000, A=0.006)\n",
      "    loss: -30.817191989968464\n",
      "ic| mode: Mode(T=0.629, angle=0.000, A=0.006)\n",
      "    loss: -31.434037392130023\n",
      "ic| mode: Mode(T=0.621, angle=0.000, A=0.006)\n",
      "    loss: -32.19903130206207\n",
      "ic| mode: Mode(T=0.613, angle=0.000, A=0.006)\n",
      "    loss: -33.126964845612704\n",
      "ic| mode: Mode(T=0.606, angle=0.000, A=0.006)\n",
      "    loss: -34.23216880599229\n",
      "ic| mode: Mode(T=0.599, angle=0.000, A=0.006)\n",
      "    loss: -35.51949087976084\n",
      "ic| mode: Mode(T=0.592, angle=0.000, A=0.006)\n",
      "    loss: -36.94652550700398\n",
      "ic| mode: Mode(T=0.585, angle=0.000, A=0.006)\n",
      "    loss: -36.532834655030136\n",
      "ic| mode: Mode(T=0.578, angle=0.000, A=0.006)\n",
      "    loss: -36.383196983979175\n",
      "ic| mode: Mode(T=0.571, angle=0.000, A=0.006)\n",
      "    loss: -36.58039351438529\n",
      "ic| mode: Mode(T=0.565, angle=0.000, A=0.006)\n",
      "    loss: -37.17684713784994\n",
      "ic| mode: Mode(T=0.559, angle=0.000, A=0.006), loss: -38.2209490539776\n",
      "ic| mode: Mode(T=0.552, angle=0.000, A=0.006)\n",
      "    loss: -39.750943680086166\n",
      "ic| mode: Mode(T=0.546, angle=0.000, A=0.005)\n",
      "    loss: -40.20401350539899\n",
      "ic| mode: Mode(T=0.541, angle=0.000, A=0.005)\n",
      "    loss: -41.25767762258916\n",
      "ic| mode: Mode(T=0.535, angle=0.000, A=0.005)\n",
      "    loss: -42.666282653056086\n",
      "ic| mode: Mode(T=0.529, angle=0.000, A=0.005)\n",
      "    loss: -44.253543634655365\n",
      "ic| mode: Mode(T=0.524, angle=0.000, A=0.005)\n",
      "    loss: -46.03906098881729\n",
      "ic| mode: Mode(T=0.518, angle=0.000, A=0.005)\n",
      "    loss: -48.37271415945453\n",
      "ic| mode: Mode(T=0.513, angle=0.000, A=0.005)\n",
      "    loss: -51.57309581479918\n",
      "ic| mode: Mode(T=0.508, angle=0.000, A=0.005)\n",
      "    loss: -55.303078618042385\n",
      "ic| mode: Mode(T=0.503, angle=0.000, A=0.005), loss: -120.0\n"
     ]
    }
   ],
   "source": [
    "# plt.imshow(image-template)\n",
    "# image_modes = (Mode())\n",
    "\n",
    "modes = []\n",
    "for x in range(1, 200, 2):\n",
    "    mode = Mode(100/x, 0, 1/x)\n",
    "    modes.append(mode) \n",
    "    image = sine_multimodal((500, 500), modes)\n",
    "    loss= snr(image, template)\n",
    "    ic(mode, loss)\n"
   ]
  },
  {
   "cell_type": "code",
   "execution_count": null,
   "metadata": {},
   "outputs": [],
   "source": []
  },
  {
   "cell_type": "code",
   "execution_count": null,
   "metadata": {},
   "outputs": [],
   "source": []
  },
  {
   "cell_type": "code",
   "execution_count": null,
   "metadata": {},
   "outputs": [],
   "source": []
  }
 ],
 "metadata": {
  "kernelspec": {
   "display_name": "venv",
   "language": "python",
   "name": "python3"
  },
  "language_info": {
   "codemirror_mode": {
    "name": "ipython",
    "version": 3
   },
   "file_extension": ".py",
   "mimetype": "text/x-python",
   "name": "python",
   "nbconvert_exporter": "python",
   "pygments_lexer": "ipython3",
   "version": "3.12.3"
  }
 },
 "nbformat": 4,
 "nbformat_minor": 2
}
